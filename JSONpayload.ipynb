{
 "cells": [
  {
   "cell_type": "code",
   "execution_count": null,
   "metadata": {},
   "outputs": [],
   "source": [
    "import requests\n",
    "#https://api.nal.usda.gov/fdc/v1/foods/search?query=apple&pageSize=2&api_key=BWQQgeyowbEa7XLG0iM2EoR3X7sDqg9xZhrRbvOq"
   ]
  },
  {
   "cell_type": "code",
   "execution_count": null,
   "metadata": {},
   "outputs": [],
   "source": [
    "params = {'api_key': 'BWQQgeyowbEa7XLG0iM2EoR3X7sDqg9xZhrRbvOq'}\n",
    "data = {'generalSearchInput': ''}\n",
    "response = requests.post(\n",
    "    r'https://api.nal.usda.gov/fdc/v1/foods/search?query=apple&pageSize=2',\n",
    "    params=params,\n",
    "    json=data\n",
    ")       \n",
    "print(response.json())"
   ]
  },
  {
   "cell_type": "code",
   "execution_count": null,
   "metadata": {},
   "outputs": [],
   "source": [
    "#SPINDT DEMO "
   ]
  },
  {
   "cell_type": "code",
   "execution_count": null,
   "metadata": {},
   "outputs": [],
   "source": [
    "import requests "
   ]
  },
  {
   "cell_type": "code",
   "execution_count": null,
   "metadata": {},
   "outputs": [],
   "source": [
    "url= 'https://api.nal.usda.gov/fdc/v1/foods/list?api_key=eitgQhVupFRpUpjeYXNBR2VEMBtiLfsva5B10KDy'"
   ]
  },
  {
   "cell_type": "code",
   "execution_count": null,
   "metadata": {},
   "outputs": [],
   "source": [
    "response = requests.get(url)"
   ]
  },
  {
   "cell_type": "code",
   "execution_count": null,
   "metadata": {},
   "outputs": [],
   "source": [
    "print(response)\n",
    "json = response.json()"
   ]
  },
  {
   "cell_type": "code",
   "execution_count": null,
   "metadata": {},
   "outputs": [],
   "source": [
    "json[0]"
   ]
  },
  {
   "cell_type": "code",
   "execution_count": null,
   "metadata": {},
   "outputs": [],
   "source": [
    "def requestAllFood():\n",
    "    pageNum = 1\n",
    "    foods = []\n",
    "    while True:\n",
    "        url = 'https://api.nal.usda.gov/fdc/v1/foods/list?api_key=eitgQhVupFRpUpjeYXNBR2VEMBtiLfsva5B10KDy' + str(pageNum)\n",
    "        req = requests.get(url)\n",
    "        if not req.ok:\n",
    "            break\n",
    "        foods = foods + req.json()\n",
    "        pageNum = pageNum + 1\n",
    "\n",
    "    return foods\n"
   ]
  },
  {
   "cell_type": "code",
   "execution_count": null,
   "metadata": {},
   "outputs": [],
   "source": [
    "listOfFoods = requestAllFood() #dont inclue - runs get (bruh)"
   ]
  },
  {
   "cell_type": "code",
   "execution_count": null,
   "metadata": {},
   "outputs": [],
   "source": [
    "len(listOfFoods)"
   ]
  }
 ],
 "metadata": {
  "kernelspec": {
   "display_name": "Python 3.10.0 64-bit",
   "language": "python",
   "name": "python3"
  },
  "language_info": {
   "codemirror_mode": {
    "name": "ipython",
    "version": 3
   },
   "file_extension": ".py",
   "mimetype": "text/x-python",
   "name": "python",
   "nbconvert_exporter": "python",
   "pygments_lexer": "ipython3",
   "version": "3.10.0"
  },
  "orig_nbformat": 4,
  "vscode": {
   "interpreter": {
    "hash": "21cbe243213d326f7ff792b921b3ca02608148089f1397533a2ce48bad4faab2"
   }
  }
 },
 "nbformat": 4,
 "nbformat_minor": 2
}
